{
 "cells": [
  {
   "cell_type": "code",
   "execution_count": 2,
   "metadata": {},
   "outputs": [],
   "source": [
    "import imdb as db\n",
    "from sqlalchemy import select\n",
    "from sqlalchemy.orm import Session"
   ]
  },
  {
   "cell_type": "code",
   "execution_count": null,
   "metadata": {},
   "outputs": [],
   "source": [
    "stm = (\n",
    "    select(db.Actor)\n",
    "    .join(db.Actor.roles)\n",
    "    .join(db.Role.movie)\n",
    "    .join(db.Movie.genres)\n",
    "    .where(db.MoviesGenres.genre == 'War')\n",
    ")"
   ]
  },
  {
   "cell_type": "code",
   "execution_count": null,
   "metadata": {},
   "outputs": [],
   "source": [
    "s = Session(db.engine)\n",
    "res = s.execute(stm)\n",
    "for i in res.scalars():\n",
    "  print(i.last_name)\n",
    "\n"
   ]
  },
  {
   "cell_type": "code",
   "execution_count": 7,
   "metadata": {},
   "outputs": [],
   "source": [
    "stm = (select(\n",
    "    db.Actor.first_name,\n",
    "    db.Actor.last_name,\n",
    "    db.Actor.gender,\n",
    "    db.Role.role,\n",
    "    db.Movie.name,\n",
    "    db.Movie.year,\n",
    "    db.MoviesGenres.genre,\n",
    "    db.Director.first_name,\n",
    "    db.Director.last_name\n",
    "    )\n",
    "    .join(db.Role, db.Role.actor_id == db.Actor.id)\n",
    "    .join(db.Movie, db.Role.movie_id == db.Movie.id)\n",
    "    .join(db.MoviesDirectors, db.MoviesDirectors.movie_id == db.Movie.id)\n",
    "    .join(db.Director, db.MoviesDirectors.director_id == db.Director.id)\n",
    "    .join(db.MoviesGenres, db.Movie.id == db.MoviesGenres.movie_id)\n",
    "    .order_by(db.Movie.id)\n",
    ")\n"
   ]
  },
  {
   "cell_type": "code",
   "execution_count": 8,
   "metadata": {},
   "outputs": [
    {
     "name": "stdout",
     "output_type": "stream",
     "text": [
      "2022-10-03 01:58:50,964 INFO sqlalchemy.engine.Engine BEGIN (implicit)\n",
      "2022-10-03 01:58:50,976 INFO sqlalchemy.engine.Engine SELECT actors.first_name, actors.last_name, actors.gender, roles.role, movies.name, movies.year, movies_genres.genre, directors.first_name AS first_name_1, directors.last_name AS last_name_1 \n",
      "FROM actors JOIN roles ON roles.actor_id = actors.id JOIN movies ON roles.movie_id = movies.id JOIN movies_directors ON movies_directors.movie_id = movies.id JOIN directors ON movies_directors.director_id = directors.id JOIN movies_genres ON movies.id = movies_genres.movie_id ORDER BY movies.id\n",
      "2022-10-03 01:58:50,978 INFO sqlalchemy.engine.Engine [generated in 0.00162s] ()\n",
      "2022-10-03 01:58:51,232 INFO sqlalchemy.engine.Engine COMMIT\n"
     ]
    }
   ],
   "source": [
    "f = open('small_data.csv','wt')\n",
    "print('actor_first_name,actor_last_name,actor_gender,actor_role,movie_name,movie_year,movie_genre,direcor_first_name,director_last_name',file=f)\n",
    "\n",
    "s = Session(db.engine)\n",
    "res = s.execute(stm)\n",
    "for r in res:\n",
    "    print(*r,sep=',',file=f)\n",
    "s.commit()\n",
    "f.close()\n"
   ]
  },
  {
   "cell_type": "code",
   "execution_count": null,
   "metadata": {},
   "outputs": [],
   "source": []
  },
  {
   "cell_type": "markdown",
   "metadata": {},
   "source": [
    "~~~sql\n",
    "select\n",
    "  actors.*\n",
    "from\n",
    "  actors,\n",
    "  roles\n",
    "where\n",
    "  actors.id = roles.actor_id\n",
    "  and roles.movie_id not in (\n",
    "    select\n",
    "      movie_id\n",
    "    from\n",
    "      movies_genres\n",
    "    where\n",
    "      movies_genres.genre = 'War'\n",
    "  )\n",
    "~~~"
   ]
  },
  {
   "cell_type": "code",
   "execution_count": null,
   "metadata": {},
   "outputs": [],
   "source": []
  }
 ],
 "metadata": {
  "kernelspec": {
   "display_name": "Python 3.10.7 64-bit",
   "language": "python",
   "name": "python3"
  },
  "language_info": {
   "codemirror_mode": {
    "name": "ipython",
    "version": 3
   },
   "file_extension": ".py",
   "mimetype": "text/x-python",
   "name": "python",
   "nbconvert_exporter": "python",
   "pygments_lexer": "ipython3",
   "version": "3.10.7"
  },
  "orig_nbformat": 4,
  "vscode": {
   "interpreter": {
    "hash": "767d51c1340bd893661ea55ea3124f6de3c7a262a8b4abca0554b478b1e2ff90"
   }
  }
 },
 "nbformat": 4,
 "nbformat_minor": 2
}
